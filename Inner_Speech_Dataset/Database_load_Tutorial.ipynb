{
  "nbformat": 4,
  "nbformat_minor": 0,
  "metadata": {
    "colab": {
      "name": "Database_load_Tutorial.ipynb",
      "provenance": [],
      "collapsed_sections": []
    },
    "kernelspec": {
      "display_name": "Python 3",
      "name": "python3"
    },
    "language_info": {
      "name": "python"
    }
  },
  "cells": [
    {
      "cell_type": "markdown",
      "source": [
        "<a   href=\"https://colab.research.google.com/github//N-Nieto/Inner_Speech_Dataset/blob/master/Database_load_Tutorial.ipynb\" target=\"_parent\"><img src=\"https://colab.research.google.com/assets/colab-badge.svg\" alt=\"Open In Colab\"/></a>"
      ],
      "metadata": {
        "id": "n7U7t8vLzdmQ"
      }
    },
    {
      "cell_type": "markdown",
      "source": [
        "# Tutorial for load the Inner speech database."
      ],
      "metadata": {
        "id": "paw7a25v4CCd"
      }
    },
    {
      "cell_type": "markdown",
      "metadata": {
        "id": "ZeJv3XgwUC4R"
      },
      "source": [
        "## Set up - Download and import required libraries"
      ]
    },
    {
      "cell_type": "code",
      "metadata": {
        "colab": {
          "base_uri": "https://localhost:8080/"
        },
        "id": "en9HsrNVTtXg",
        "cellView": "form",
        "outputId": "9b20e1be-3a8e-4de4-8a1c-c385a97f9a8a"
      },
      "source": [
        "#@title Install dependencies \n",
        "!git clone https://github.com/N-Nieto/Inner_Speech_Dataset -q\n",
        "!pip3 install mne -q"
      ],
      "execution_count": 1,
      "outputs": [
        {
          "output_type": "stream",
          "name": "stdout",
          "text": [
            "\u001b[K     |████████████████████████████████| 7.4 MB 21.3 MB/s \n",
            "\u001b[?25h"
          ]
        }
      ]
    },
    {
      "cell_type": "code",
      "metadata": {
        "id": "GySLvxiqUJzX",
        "cellView": "form"
      },
      "source": [
        "#@title Imports \n",
        "import os\n",
        "import mne \n",
        "import pickle\n",
        "import random\n",
        "import warnings\n",
        "import numpy as np\n",
        "import matplotlib.pyplot as plt\n",
        "\n",
        "from google.colab import drive, files\n",
        "\n",
        "from Inner_Speech_Dataset.Python_Processing.Data_extractions import  Extract_data_from_subject\n",
        "from Inner_Speech_Dataset.Python_Processing.Data_processing import  Select_time_window, Transform_for_classificator, Split_trial_in_time\n",
        "\n",
        "np.random.seed(23)\n",
        "\n",
        "mne.set_log_level(verbose='warning') #to avoid info at terminal\n",
        "warnings.filterwarnings(action = \"ignore\", category = DeprecationWarning ) \n",
        "warnings.filterwarnings(action = \"ignore\", category = FutureWarning ) "
      ],
      "execution_count": 2,
      "outputs": []
    },
    {
      "cell_type": "markdown",
      "metadata": {
        "id": "gcXsT133Chus"
      },
      "source": [
        "## Data Loading."
      ]
    },
    {
      "cell_type": "code",
      "metadata": {
        "id": "C8k9XNR-TwXp",
        "colab": {
          "base_uri": "https://localhost:8080/"
        },
        "outputId": "3dc3fc7f-018f-429d-fdeb-ebc4e1dd012b"
      },
      "source": [
        "# Mount drive with data. You have to download and store the dataset in your own Drive\n",
        "drive.mount('/gdrive', force_remount=True)"
      ],
      "execution_count": 5,
      "outputs": [
        {
          "output_type": "stream",
          "name": "stdout",
          "text": [
            "Mounted at /gdrive\n"
          ]
        }
      ]
    },
    {
      "cell_type": "code",
      "metadata": {
        "id": "m6f5cvPq_aYr"
      },
      "source": [
        "### Hyperparameters\n",
        "\n",
        "# The root dir have to point to the folder that cointains the database\n",
        "root_dir = \"/gdrive/My Drive/...\"\n",
        "\n",
        "# Data Type\n",
        "datatype = \"EEG\"\n",
        "\n",
        "# Sampling rate\n",
        "fs = 256\n",
        "\n",
        "# Select the useful par of each trial. Time in seconds\n",
        "t_start = 1.5\n",
        "t_end = 3.5\n",
        "\n",
        "# Subject number\n",
        "N_S = 1   #[1 to 10]\n"
      ],
      "execution_count": 6,
      "outputs": []
    },
    {
      "cell_type": "code",
      "metadata": {
        "id": "7fQzTOUK1lTn",
        "cellView": "form"
      },
      "source": [
        "#@title Data extraction and processing\n",
        "\n",
        "# Load all trials for a sigle subject\n",
        "X, Y = Extract_data_from_subject(root_dir, N_S, datatype)\n",
        "\n",
        "# Cut usefull time. i.e action interval\n",
        "X = Select_time_window(X = X, t_start = t_start, t_end = t_end, fs = fs)"
      ],
      "execution_count": 7,
      "outputs": []
    },
    {
      "cell_type": "code",
      "source": [
        "print(\"Data shape: [trials x channels x samples]\")\n",
        "print(X.shape) # Trials, channels, samples\n",
        "\n",
        "print(\"Labels shape\")\n",
        "print(Y.shape) # Time stamp, class , condition, session"
      ],
      "metadata": {
        "id": "9ohrUvI8pip3"
      },
      "execution_count": null,
      "outputs": []
    },
    {
      "cell_type": "markdown",
      "source": [
        "## Create the different groups for a classifier. A group is created with one condition and one clase. "
      ],
      "metadata": {
        "id": "UH40Uwz-09d2"
      }
    },
    {
      "cell_type": "code",
      "source": [
        "# Conditions to compared\n",
        "Conditions = [[\"Inner\"],[\"Inner\"]]\n",
        "# The class for the above condition\n",
        "Classes    = [  [\"Up\"] ,[\"Down\"] ]"
      ],
      "metadata": {
        "id": "RwovCAQCrEme"
      },
      "execution_count": 9,
      "outputs": []
    },
    {
      "cell_type": "code",
      "source": [
        "# Transform data and keep only the trials of interes\n",
        "X , Y =  Transform_for_classificator(X, Y, Classes, Conditions)"
      ],
      "metadata": {
        "id": "RQgiafjjqshv"
      },
      "execution_count": 10,
      "outputs": []
    },
    {
      "cell_type": "code",
      "source": [
        "print(\"Final data shape\")\n",
        "print(X.shape)\n",
        "\n",
        "print(\"Final labels shape\")\n",
        "print(Y.shape) "
      ],
      "metadata": {
        "id": "ooabEqcspZ-X",
        "colab": {
          "base_uri": "https://localhost:8080/"
        },
        "outputId": "2ac5dc64-43cf-4635-9cf8-f1708a6f86af"
      },
      "execution_count": 11,
      "outputs": [
        {
          "output_type": "stream",
          "name": "stdout",
          "text": [
            "Final data shape\n",
            "(100, 128, 508)\n",
            "Final labels shape\n",
            "(100,)\n"
          ]
        }
      ]
    }
  ]
}
